{
 "cells": [
  {
   "cell_type": "code",
   "execution_count": null,
   "id": "3a6eacc8",
   "metadata": {},
   "outputs": [],
   "source": [
    "import tensorflow as tf\n",
    "\n",
    "\n",
    "physical_devices = tf.config.list_physical_devices(\"GPU\")\n",
    "print(physical_devices)"
   ]
  },
  {
   "cell_type": "code",
   "execution_count": null,
   "id": "b394ea54",
   "metadata": {},
   "outputs": [],
   "source": [
    "#!pip install numba\n",
    "from numba import cuda\n",
    "\n",
    "cuda.select_device(0)\n",
    "cuda.close()"
   ]
  },
  {
   "cell_type": "markdown",
   "id": "b4ec9dce",
   "metadata": {},
   "source": [
    "https://www.learndatasci.com/tutorials/hands-on-transfer-learning-keras/#:~:text=In%20the%202014%20ImageNet%20Classification,present%20in%20our%20Food%20dataset."
   ]
  },
  {
   "cell_type": "code",
   "execution_count": 1,
   "id": "4b0402ee",
   "metadata": {},
   "outputs": [],
   "source": [
    "import os\n",
    "from keras.models import Model\n",
    "from keras.optimizers import Adam\n",
    "from keras.applications.vgg16 import VGG16, preprocess_input\n",
    "from keras.preprocessing.image import ImageDataGenerator\n",
    "from tensorflow.keras.callbacks import ModelCheckpoint, EarlyStopping, ReduceLROnPlateau, CSVLogger\n",
    "from keras.layers import Dense, Dropout, Flatten\n",
    "from pathlib import Path\n",
    "import numpy as np\n",
    "import datetime\n",
    "import time\n",
    "from sklearn.metrics import classification_report, confusion_matrix, accuracy_score\n"
   ]
  },
  {
   "cell_type": "code",
   "execution_count": 2,
   "id": "4599a15c",
   "metadata": {},
   "outputs": [],
   "source": [
    "BATCH_SIZE = 64\n",
    "\n",
    "train_generator =ImageDataGenerator( validation_split=0.15,\n",
    "                                     preprocessing_function=preprocess_input) # VGG16 preprocessing\n",
    "\n",
    "test_generator = ImageDataGenerator(preprocessing_function=preprocess_input) # VGG16 preprocessing"
   ]
  },
  {
   "cell_type": "code",
   "execution_count": 3,
   "id": "d82600c1",
   "metadata": {
    "scrolled": true
   },
   "outputs": [
    {
     "name": "stdout",
     "output_type": "stream",
     "text": [
      "['Apple Braeburn', 'Apple Crimson Snow', 'Apple Golden 1', 'Apple Golden 2', 'Apple Golden 3', 'Apple Granny Smith', 'Apple Pink Lady', 'Apple Red 1', 'Apple Red 2', 'Apple Red 3', 'Apple Red Delicious', 'Apple Red Yellow 1', 'Apple Red Yellow 2', 'Apricot', 'Avocado', 'Avocado ripe', 'Banana', 'Banana Lady Finger', 'Banana Red', 'Beetroot', 'Blueberry', 'Cactus fruit', 'Cantaloupe 1', 'Cantaloupe 2', 'Carambula', 'Cauliflower', 'Cherry 1', 'Cherry 2', 'Cherry Rainier', 'Cherry Wax Black', 'Cherry Wax Red', 'Cherry Wax Yellow', 'Chestnut', 'Clementine', 'Cocos', 'Corn', 'Corn Husk', 'Cucumber Ripe', 'Cucumber Ripe 2', 'Dates', 'Eggplant', 'Fig', 'Ginger Root', 'Granadilla', 'Grape Blue', 'Grape Pink', 'Grape White', 'Grape White 2', 'Grape White 3', 'Grape White 4', 'Grapefruit Pink', 'Grapefruit White', 'Guava', 'Hazelnut', 'Huckleberry', 'Kaki', 'Kiwi', 'Kohlrabi', 'Kumquats', 'Lemon', 'Lemon Meyer', 'Limes', 'Lychee', 'Mandarine', 'Mango', 'Mango Red', 'Mangostan', 'Maracuja', 'Melon Piel de Sapo', 'Mulberry', 'Nectarine', 'Nectarine Flat', 'Nut Forest', 'Nut Pecan', 'Onion Red', 'Onion Red Peeled', 'Onion White', 'Orange', 'Papaya', 'Passion Fruit', 'Peach', 'Peach 2', 'Peach Flat', 'Pear', 'Pear 2', 'Pear Abate', 'Pear Forelle', 'Pear Kaiser', 'Pear Monster', 'Pear Red', 'Pear Stone', 'Pear Williams', 'Pepino', 'Pepper Green', 'Pepper Orange', 'Pepper Red', 'Pepper Yellow', 'Physalis', 'Physalis with Husk', 'Pineapple', 'Pineapple Mini', 'Pitahaya Red', 'Plum', 'Plum 2', 'Plum 3', 'Pomegranate', 'Pomelo Sweetie', 'Potato Red', 'Potato Red Washed', 'Potato Sweet', 'Potato White', 'Quince', 'Rambutan', 'Raspberry', 'Redcurrant', 'Salak', 'Strawberry', 'Strawberry Wedge', 'Tamarillo', 'Tangelo', 'Tomato 1', 'Tomato 2', 'Tomato 3', 'Tomato 4', 'Tomato Cherry Red', 'Tomato Heart', 'Tomato Maroon', 'Tomato Yellow', 'Tomato not Ripened', 'Walnut', 'Watermelon']\n"
     ]
    }
   ],
   "source": [
    "train_data_dir ='D:/TQ/Fruits360/fruits-360_dataset/fruits-360/Training/'\n",
    "test_data_dir = 'D:/TQ/Fruits360/fruits-360_dataset/fruits-360/Test/'\n",
    "\n",
    "total_classes = sorted(os.listdir(train_data_dir))\n",
    "print(total_classes)\n"
   ]
  },
  {
   "cell_type": "code",
   "execution_count": 4,
   "id": "aaa91626",
   "metadata": {},
   "outputs": [
    {
     "name": "stdout",
     "output_type": "stream",
     "text": [
      "Found 57612 images belonging to 131 classes.\n",
      "Found 10080 images belonging to 131 classes.\n",
      "Found 22688 images belonging to 131 classes.\n"
     ]
    }
   ],
   "source": [
    "traingen = train_generator.flow_from_directory(train_data_dir,\n",
    "                                               target_size=(100, 100),\n",
    "                                               class_mode='categorical',\n",
    "                                               classes=total_classes,\n",
    "                                               subset='training',\n",
    "                                               batch_size=BATCH_SIZE, \n",
    "                                               shuffle=True,\n",
    "                                               seed=42)\n",
    "\n",
    "validgen = train_generator.flow_from_directory(train_data_dir,\n",
    "                                               target_size=(100, 100),\n",
    "                                               class_mode='categorical',\n",
    "                                               classes=total_classes,\n",
    "                                               subset='validation',\n",
    "                                               batch_size=BATCH_SIZE,\n",
    "                                               shuffle=True,\n",
    "                                               seed=42)\n",
    "\n",
    "testgen = test_generator.flow_from_directory(test_data_dir,\n",
    "                                             target_size=(100, 100),\n",
    "                                             class_mode=None,\n",
    "                                             classes=total_classes,\n",
    "                                             batch_size=1,\n",
    "                                             shuffle=False,\n",
    "                                             seed=42)"
   ]
  },
  {
   "cell_type": "code",
   "execution_count": 5,
   "id": "9dd19b7d",
   "metadata": {},
   "outputs": [],
   "source": [
    "# Model Creation\n",
    "def create_model(input_shape, n_classes, optimizer='rmsprop', fine_tune=0):\n",
    "    \"\"\"\n",
    "    Compiles a model integrated with VGG16 pretrained layers\n",
    "    \n",
    "    input_shape: tuple - the shape of input images (width, height, channels)\n",
    "    n_classes: int - number of classes for the output layer\n",
    "    optimizer: string - instantiated optimizer to use for training. Defaults to 'RMSProp'\n",
    "    fine_tune: int - The number of pre-trained layers to unfreeze.\n",
    "                If set to 0, all pretrained layers will freeze during training\n",
    "    \"\"\"\n",
    "    \n",
    "    # Pretrained convolutional layers are loaded using the Imagenet weights.\n",
    "    # Include_top is set to False, in order to exclude the model's fully-connected layers.\n",
    "    conv_base = VGG16(include_top=False,\n",
    "                     weights='imagenet', \n",
    "                     input_shape=input_shape)\n",
    "    \n",
    "    # Defines how many layers to freeze during training.\n",
    "    # Layers in the convolutional base are switched from trainable to non-trainable\n",
    "    # depending on the size of the fine-tuning parameter.\n",
    "    if fine_tune > 0:\n",
    "        for layer in conv_base.layers[:-fine_tune]:\n",
    "            layer.trainable = False\n",
    "    else:\n",
    "        for layer in conv_base.layers:\n",
    "            layer.trainable = False\n",
    "\n",
    "    # Create a new 'top' of the model (i.e. fully-connected layers).\n",
    "    # This is 'bootstrapping' a new top_model onto the pretrained layers.\n",
    "    top_model = conv_base.output\n",
    "    top_model = Flatten(name=\"flatten\")(top_model)\n",
    "    top_model = Dense(4096, activation='relu')(top_model)\n",
    "    top_model = Dense(1072, activation='relu')(top_model)\n",
    "    top_model = Dropout(0.2)(top_model)\n",
    "    output_layer = Dense(n_classes, activation='softmax')(top_model)\n",
    "    \n",
    "    # Group the convolutional base and new fully-connected layers into a Model object.\n",
    "    model = Model(inputs=conv_base.input, outputs=output_layer)\n",
    "\n",
    "    # Compiles the model for training.\n",
    "    model.compile(optimizer=optimizer, \n",
    "                  loss='categorical_crossentropy',\n",
    "                  metrics=['accuracy'])\n",
    "    \n",
    "    return model"
   ]
  },
  {
   "cell_type": "markdown",
   "id": "2a94e561",
   "metadata": {},
   "source": [
    "# Training without Fine Tuning"
   ]
  },
  {
   "cell_type": "code",
   "execution_count": 6,
   "id": "78319d7a",
   "metadata": {
    "scrolled": true
   },
   "outputs": [],
   "source": [
    "input_shape = (100,100, 3)\n",
    "optim_1 = Adam(learning_rate=0.001)\n",
    "n_classes=len(total_classes)\n",
    "\n",
    "n_steps = traingen.samples // BATCH_SIZE\n",
    "n_val_steps = validgen.samples // BATCH_SIZE\n",
    "n_epochs = 20\n",
    "\n",
    "# First we'll train the model without Fine-tuning\n",
    "vgg_model = create_model(input_shape, n_classes, optim_1, fine_tune=0)"
   ]
  },
  {
   "cell_type": "code",
   "execution_count": 7,
   "id": "af91caab",
   "metadata": {},
   "outputs": [],
   "source": [
    "from livelossplot.inputs.keras import PlotLossesCallback\n",
    "\n",
    "plot_loss_1 = PlotLossesCallback()\n",
    "csv_logger = CSVLogger('D:/TQ/Fruits360/VGG_Model_July_25_20Epochs.csv', separator=',')\n",
    "\n",
    "# ModelCheckpoint callback - save best weights\n",
    "tl_checkpoint_1 = ModelCheckpoint(filepath='D:/TQ/Fruits360/VGG_Model_20_Epochs_July_26.h5',\n",
    "                                  save_best_only=True,\n",
    "                                  verbose=1)\n",
    "\n",
    "# EarlyStopping\n",
    "early_stop = EarlyStopping(monitor='val_loss',\n",
    "                           patience=10,\n",
    "                           restore_best_weights=True,\n",
    "                           mode='min')"
   ]
  },
  {
   "cell_type": "code",
   "execution_count": 8,
   "id": "1d43888d",
   "metadata": {
    "scrolled": false
   },
   "outputs": [
    {
     "data": {
      "image/png": "[encoded data removed]",
      "text/plain": [
       "<Figure size 864x576 with 2 Axes>"
      ]
     },
     "metadata": {
      "needs_background": "light"
     },
     "output_type": "display_data"
    },
    {
     "name": "stdout",
     "output_type": "stream",
     "text": [
      "accuracy\n",
      "\ttraining         \t (min:    0.935, max:    0.999, cur:    0.997)\n",
      "\tvalidation       \t (min:    0.936, max:    0.976, cur:    0.969)\n",
      "Loss\n",
      "\ttraining         \t (min:    0.056, max:    0.843, cur:    0.139)\n",
      "\tvalidation       \t (min:    0.488, max:    6.220, cur:    2.450)\n",
      "900/900 [==============================] - 311s 345ms/step - loss: 0.1391 - accuracy: 0.9975 - val_loss: 2.4504 - val_accuracy: 0.9688\n",
      "CPU times: total: 1h 27min 31s\n",
      "Wall time: 1h 14min 49s\n"
     ]
    }
   ],
   "source": [
    "%%time \n",
    "\n",
    "vgg_history = vgg_model.fit(traingen,\n",
    "                            batch_size=BATCH_SIZE,\n",
    "                            epochs=n_epochs,\n",
    "                            validation_data=validgen,\n",
    "                            steps_per_epoch=n_steps,\n",
    "                            validation_steps=n_val_steps,\n",
    "                            callbacks=[tl_checkpoint_1, early_stop, plot_loss_1],\n",
    "                            verbose=1)"
   ]
  },
  {
   "cell_type": "code",
   "execution_count": 9,
   "id": "27b0d314",
   "metadata": {},
   "outputs": [
    {
     "name": "stdout",
     "output_type": "stream",
     "text": [
      "22688/22688 [==============================] - 642s 28ms/step\n"
     ]
    }
   ],
   "source": [
    "# Generate predictions\n",
    "vgg_model.load_weights('D:/TQ/Fruits360/VGG_Model_20_Epochs_July_26.h5') # initialize the best trained weights\n",
    "\n",
    "true_classes = testgen.classes\n",
    "class_indices = traingen.class_indices\n",
    "class_indices = dict((v,k) for k,v in class_indices.items())\n",
    "\n",
    "vgg_preds = vgg_model.predict(testgen)\n",
    "vgg_pred_classes = np.argmax(vgg_preds, axis=1)\n"
   ]
  },
  {
   "cell_type": "code",
   "execution_count": 10,
   "id": "641e75f4",
   "metadata": {},
   "outputs": [
    {
     "name": "stdout",
     "output_type": "stream",
     "text": [
      "VGG16 Model Accuracy without Fine-Tuning: 94.11%\n"
     ]
    }
   ],
   "source": [
    "from sklearn.metrics import accuracy_score\n",
    "\n",
    "vgg_acc = accuracy_score(true_classes, vgg_pred_classes)\n",
    "print(\"VGG16 Model Accuracy without Fine-Tuning: {:.2f}%\".format(vgg_acc * 100))"
   ]
  },
  {
   "cell_type": "code",
   "execution_count": 11,
   "id": "99ac7f1e",
   "metadata": {},
   "outputs": [
    {
     "data": {
      "image/png": "[encoded data removed]",
      "text/plain": [
       "<Figure size 432x288 with 1 Axes>"
      ]
     },
     "metadata": {
      "needs_background": "light"
     },
     "output_type": "display_data"
    },
    {
     "data": {
      "image/png": "[encoded data removed]",
      "text/plain": [
       "<Figure size 432x288 with 1 Axes>"
      ]
     },
     "metadata": {
      "needs_background": "light"
     },
     "output_type": "display_data"
    }
   ],
   "source": [
    "import matplotlib.pyplot as plt\n",
    "acc = vgg_history.history['accuracy']\n",
    "val_acc = vgg_history.history['val_accuracy']\n",
    "loss = vgg_history.history['loss']\n",
    "val_loss = vgg_history.history['val_loss']\n",
    "epochs = range(1,len(acc)+1)\n",
    "plt.figure()\n",
    "plt.plot(epochs, acc, 'b', label = 'Training accuracy')\n",
    "plt.plot(epochs, val_acc, 'r', label='Validation accuracy')\n",
    "plt.title('Training accuracy')\n",
    "plt.legend()\n",
    "plt.savefig('D:/TQ/Fruits360/Results/MobileNet_50_Epochs_Accuracy.jpg')\n",
    "plt.figure()\n",
    "plt.plot(epochs, loss, 'b', label = 'Training loss')\n",
    "plt.plot(epochs, val_loss, 'r', label='Validation loss')\n",
    "plt.title('Training and validation loss')\n",
    "plt.legend()\n",
    "plt.savefig('D:/TQ/Fruits360/Results/MobileNet_50_Epochs_Loss.jpg')"
   ]
  },
  {
   "cell_type": "code",
   "execution_count": 12,
   "id": "3f03fe16",
   "metadata": {},
   "outputs": [
    {
     "name": "stdout",
     "output_type": "stream",
     "text": [
      "[[161   0   0 ...   0   0   0]\n",
      " [  0  93   0 ...   0   0   0]\n",
      " [  0   0 146 ...   0   0   0]\n",
      " ...\n",
      " [  0   0   0 ... 158   0   0]\n",
      " [  0   0   0 ...   0 249   0]\n",
      " [  0   0   0 ...   0   0 157]]\n",
      "Testing End at:  2022-07-26 16:18:35.294351\n",
      "Time:  0:00:00.007886\n"
     ]
    }
   ],
   "source": [
    "# Confusion Matrix\n",
    "start = datetime.datetime.now()\n",
    "Y_pred = vgg_preds\n",
    "y_pred = np.argmax(Y_pred, axis=1)\n",
    "cm = confusion_matrix(testgen.classes, y_pred)\n",
    "print(cm)\n",
    "\n",
    "end= datetime.datetime.now()\n",
    "print(\"Testing End at: \", end)\n",
    "elapsed= end-start\n",
    "print (\"Time: \", elapsed)"
   ]
  },
  {
   "cell_type": "code",
   "execution_count": 13,
   "id": "fc459592",
   "metadata": {
    "scrolled": false
   },
   "outputs": [
    {
     "name": "stdout",
     "output_type": "stream",
     "text": [
      "                     precision    recall  f1-score   support\n",
      "\n",
      "     Apple Braeburn       0.76      0.98      0.85       164\n",
      " Apple Crimson Snow       1.00      0.63      0.77       148\n",
      "     Apple Golden 1       1.00      0.91      0.95       160\n",
      "     Apple Golden 2       0.54      1.00      0.70       164\n",
      "     Apple Golden 3       0.97      0.88      0.92       161\n",
      " Apple Granny Smith       1.00      0.71      0.83       164\n",
      "    Apple Pink Lady       0.95      0.84      0.89       152\n",
      "        Apple Red 1       0.82      1.00      0.90       164\n",
      "        Apple Red 2       0.84      0.63      0.72       164\n",
      "        Apple Red 3       1.00      0.69      0.82       144\n",
      "Apple Red Delicious       1.00      1.00      1.00       166\n",
      " Apple Red Yellow 1       0.80      0.92      0.86       164\n",
      " Apple Red Yellow 2       1.00      1.00      1.00       219\n",
      "            Apricot       1.00      1.00      1.00       164\n",
      "            Avocado       1.00      1.00      1.00       143\n",
      "       Avocado ripe       1.00      1.00      1.00       166\n",
      "             Banana       1.00      1.00      1.00       166\n",
      " Banana Lady Finger       1.00      1.00      1.00       152\n",
      "         Banana Red       1.00      1.00      1.00       166\n",
      "           Beetroot       0.96      0.47      0.63       150\n",
      "          Blueberry       0.96      1.00      0.98       154\n",
      "       Cactus fruit       1.00      1.00      1.00       166\n",
      "       Cantaloupe 1       1.00      1.00      1.00       164\n",
      "       Cantaloupe 2       1.00      1.00      1.00       164\n",
      "          Carambula       1.00      1.00      1.00       166\n",
      "        Cauliflower       0.91      1.00      0.95       234\n",
      "           Cherry 1       1.00      1.00      1.00       164\n",
      "           Cherry 2       1.00      1.00      1.00       246\n",
      "     Cherry Rainier       0.97      0.93      0.95       246\n",
      "   Cherry Wax Black       1.00      1.00      1.00       164\n",
      "     Cherry Wax Red       1.00      1.00      1.00       164\n",
      "  Cherry Wax Yellow       1.00      1.00      1.00       164\n",
      "           Chestnut       0.96      0.98      0.97       153\n",
      "         Clementine       1.00      1.00      1.00       166\n",
      "              Cocos       1.00      0.80      0.89       166\n",
      "               Corn       1.00      0.52      0.68       150\n",
      "          Corn Husk       1.00      0.66      0.80       154\n",
      "      Cucumber Ripe       1.00      1.00      1.00       130\n",
      "    Cucumber Ripe 2       0.79      0.99      0.88       156\n",
      "              Dates       0.98      1.00      0.99       166\n",
      "           Eggplant       0.98      0.89      0.93       156\n",
      "                Fig       0.97      1.00      0.98       234\n",
      "        Ginger Root       1.00      0.91      0.95        99\n",
      "         Granadilla       1.00      1.00      1.00       166\n",
      "         Grape Blue       1.00      1.00      1.00       328\n",
      "         Grape Pink       0.95      0.99      0.97       164\n",
      "        Grape White       0.91      1.00      0.95       166\n",
      "      Grape White 2       0.90      1.00      0.95       166\n",
      "      Grape White 3       1.00      1.00      1.00       164\n",
      "      Grape White 4       1.00      1.00      1.00       158\n",
      "    Grapefruit Pink       1.00      1.00      1.00       166\n",
      "   Grapefruit White       1.00      1.00      1.00       164\n",
      "              Guava       1.00      1.00      1.00       166\n",
      "           Hazelnut       1.00      1.00      1.00       157\n",
      "        Huckleberry       1.00      1.00      1.00       166\n",
      "               Kaki       1.00      0.75      0.86       166\n",
      "               Kiwi       1.00      0.94      0.97       156\n",
      "           Kohlrabi       0.81      1.00      0.90       157\n",
      "           Kumquats       1.00      1.00      1.00       166\n",
      "              Lemon       0.92      1.00      0.96       164\n",
      "        Lemon Meyer       1.00      1.00      1.00       166\n",
      "              Limes       1.00      1.00      1.00       166\n",
      "             Lychee       1.00      1.00      1.00       166\n",
      "          Mandarine       1.00      1.00      1.00       166\n",
      "              Mango       1.00      1.00      1.00       166\n",
      "          Mango Red       0.90      0.91      0.91       142\n",
      "          Mangostan       0.83      1.00      0.91       102\n",
      "           Maracuja       0.99      1.00      1.00       166\n",
      " Melon Piel de Sapo       1.00      1.00      1.00       246\n",
      "           Mulberry       1.00      1.00      1.00       164\n",
      "          Nectarine       0.75      0.80      0.77       164\n",
      "     Nectarine Flat       0.99      1.00      1.00       160\n",
      "         Nut Forest       1.00      1.00      1.00       218\n",
      "          Nut Pecan       0.87      0.99      0.92       178\n",
      "          Onion Red       0.97      0.80      0.88       150\n",
      "   Onion Red Peeled       1.00      0.68      0.81       155\n",
      "        Onion White       0.98      0.71      0.82       146\n",
      "             Orange       1.00      1.00      1.00       160\n",
      "             Papaya       0.94      0.86      0.90       164\n",
      "      Passion Fruit       0.89      1.00      0.94       166\n",
      "              Peach       0.72      0.66      0.69       164\n",
      "            Peach 2       0.99      1.00      1.00       246\n",
      "         Peach Flat       0.96      1.00      0.98       164\n",
      "               Pear       1.00      0.76      0.87       164\n",
      "             Pear 2       0.85      0.74      0.79       232\n",
      "         Pear Abate       1.00      1.00      1.00       166\n",
      "       Pear Forelle       1.00      1.00      1.00       234\n",
      "        Pear Kaiser       1.00      1.00      1.00       102\n",
      "       Pear Monster       0.84      0.81      0.83       166\n",
      "           Pear Red       0.54      1.00      0.70       222\n",
      "         Pear Stone       0.98      1.00      0.99       237\n",
      "      Pear Williams       1.00      1.00      1.00       166\n",
      "             Pepino       1.00      0.48      0.64       166\n",
      "       Pepper Green       1.00      1.00      1.00       148\n",
      "      Pepper Orange       0.86      0.99      0.92       234\n",
      "         Pepper Red       0.77      1.00      0.87       222\n",
      "      Pepper Yellow       0.99      1.00      1.00       222\n",
      "           Physalis       1.00      1.00      1.00       164\n",
      " Physalis with Husk       0.99      1.00      1.00       164\n",
      "          Pineapple       1.00      1.00      1.00       166\n",
      "     Pineapple Mini       1.00      1.00      1.00       163\n",
      "       Pitahaya Red       1.00      1.00      1.00       166\n",
      "               Plum       0.99      0.99      0.99       151\n",
      "             Plum 2       1.00      0.93      0.96       142\n",
      "             Plum 3       1.00      0.95      0.97       304\n",
      "        Pomegranate       1.00      0.85      0.92       164\n",
      "     Pomelo Sweetie       0.97      1.00      0.99       153\n",
      "         Potato Red       1.00      0.95      0.97       150\n",
      "  Potato Red Washed       1.00      0.91      0.95       151\n",
      "       Potato Sweet       1.00      0.38      0.55       150\n",
      "       Potato White       0.74      0.94      0.83       150\n",
      "             Quince       1.00      1.00      1.00       166\n",
      "           Rambutan       1.00      1.00      1.00       164\n",
      "          Raspberry       1.00      1.00      1.00       166\n",
      "         Redcurrant       1.00      1.00      1.00       164\n",
      "              Salak       1.00      1.00      1.00       162\n",
      "         Strawberry       0.85      1.00      0.92       164\n",
      "   Strawberry Wedge       1.00      1.00      1.00       246\n",
      "          Tamarillo       0.95      1.00      0.97       166\n",
      "            Tangelo       1.00      1.00      1.00       166\n",
      "           Tomato 1       0.99      1.00      1.00       246\n",
      "           Tomato 2       0.99      1.00      1.00       225\n",
      "           Tomato 3       1.00      0.98      0.99       246\n",
      "           Tomato 4       1.00      1.00      1.00       160\n",
      "  Tomato Cherry Red       1.00      1.00      1.00       164\n",
      "       Tomato Heart       0.84      0.71      0.77       228\n",
      "      Tomato Maroon       1.00      1.00      1.00       127\n",
      "      Tomato Yellow       1.00      1.00      1.00       153\n",
      " Tomato not Ripened       1.00      1.00      1.00       158\n",
      "             Walnut       0.60      1.00      0.75       249\n",
      "         Watermelon       1.00      1.00      1.00       157\n",
      "\n",
      "           accuracy                           0.94     22688\n",
      "          macro avg       0.96      0.94      0.94     22688\n",
      "       weighted avg       0.95      0.94      0.94     22688\n",
      "\n"
     ]
    }
   ],
   "source": [
    "report = classification_report(testgen.classes, y_pred, target_names=total_classes)\n",
    "print(report)"
   ]
  },
  {
   "cell_type": "markdown",
   "id": "8aa0e025",
   "metadata": {},
   "source": [
    "#Training with Fine Tuning"
   ]
  },
  {
   "cell_type": "code",
   "execution_count": null,
   "id": "d34acde0",
   "metadata": {
    "scrolled": true
   },
   "outputs": [],
   "source": [
    "# Reset our image data generators\n",
    "traingen.reset()\n",
    "validgen.reset()\n",
    "testgen.reset()\n",
    "\n",
    "# Use a smaller learning rate\n",
    "optim_2 = Adam(lr=0.0001)\n",
    "\n",
    "# Re-compile the model, this time leaving the last 2 layers unfrozen for Fine-Tuning\n",
    "vgg_model_ft = create_model(input_shape, n_classes, optim_2, fine_tune=2)"
   ]
  },
  {
   "cell_type": "code",
   "execution_count": null,
   "id": "fc95097a",
   "metadata": {
    "scrolled": false
   },
   "outputs": [],
   "source": [
    "%%time\n",
    "\n",
    "plot_loss_2 = PlotLossesCallback()\n",
    "\n",
    "# Retrain model with fine-tuning\n",
    "vgg_ft_history = vgg_model_ft.fit(traingen,\n",
    "                                  batch_size=BATCH_SIZE,\n",
    "                                  epochs=n_epochs,\n",
    "                                  validation_data=validgen,\n",
    "                                  steps_per_epoch=n_steps, \n",
    "                                  validation_steps=n_val_steps,\n",
    "                                  callbacks=[tl_checkpoint_1, early_stop, plot_loss_2],\n",
    "                                  verbose=1)"
   ]
  },
  {
   "cell_type": "code",
   "execution_count": null,
   "id": "9677d587",
   "metadata": {},
   "outputs": [],
   "source": [
    "vgg_model_ft.summary()\n"
   ]
  },
  {
   "cell_type": "code",
   "execution_count": null,
   "id": "e7d4a75c",
   "metadata": {},
   "outputs": [],
   "source": [
    "# Generate predictions\n",
    "#vgg_model_ft.load_weights('tl_model_v1.weights.best.hdf5') # initialize the best trained weights\n",
    "\n",
    "vgg_preds_ft = vgg_model_ft.predict(testgen)\n",
    "vgg_pred_classes_ft = np.argmax(vgg_preds_ft, axis=1)"
   ]
  },
  {
   "cell_type": "code",
   "execution_count": null,
   "id": "33fb00af",
   "metadata": {},
   "outputs": [],
   "source": [
    "true_classes = testgen.classes\n",
    "\n",
    "vgg_acc_ft = accuracy_score(true_classes, vgg_pred_classes_ft)\n",
    "print(\"VGG16 Model Accuracy with Fine-Tuning: {:.2f}%\".format(vgg_acc_ft * 100))"
   ]
  },
  {
   "cell_type": "code",
   "execution_count": null,
   "id": "4271e043",
   "metadata": {},
   "outputs": [],
   "source": [
    "import matplotlib.pyplot as plt\n",
    "\n",
    "acc = vgg_ft_history.history['accuracy']\n",
    "val_acc = vgg_ft_history.history['val_accuracy']\n",
    "loss = vgg_ft_history.history['loss']\n",
    "val_loss = vgg_ft_history.history['val_loss']\n",
    "epochs = range(1,len(acc)+1)\n",
    "plt.figure()\n",
    "plt.plot(epochs, acc, 'b', label = 'Training accuracy')\n",
    "plt.plot(epochs, val_acc, 'r', label='Validation accuracy')\n",
    "plt.title('Training accuracy')\n",
    "plt.legend()\n",
    "plt.savefig('D:/TQ/Fruits360/ResNetAccuracy.jpg')\n",
    "plt.figure()\n",
    "plt.plot(epochs, loss, 'b', label = 'Training loss')\n",
    "plt.plot(epochs, val_loss, 'r', label='Validation loss')\n",
    "plt.title('Training and validation loss')\n",
    "plt.legend()\n",
    "plt.savefig('D:/TQ/Fruits360/ResNetLoss.jpg')"
   ]
  },
  {
   "cell_type": "code",
   "execution_count": null,
   "id": "c2329817",
   "metadata": {},
   "outputs": [],
   "source": [
    "import seaborn as sns\n",
    "import matplotlib.pyplot as plt\n",
    "from sklearn.metrics import confusion_matrix\n",
    "\n",
    "# Get the names of the ten classes\n",
    "class_names = testgen.class_indices.keys()\n",
    "\n",
    "def plot_heatmap(y_true, y_pred, class_names, ax, title):\n",
    "    cm = confusion_matrix(y_true, y_pred)\n",
    "    sns.heatmap(\n",
    "        cm, \n",
    "        annot=True, \n",
    "        square=True, \n",
    "        xticklabels=class_names, \n",
    "        yticklabels=class_names,\n",
    "        fmt='d', \n",
    "        cmap=plt.cm.Blues,\n",
    "        cbar=False,\n",
    "        ax=ax\n",
    "    )\n",
    "    ax.set_title(title, fontsize=16)\n",
    "    ax.set_xticklabels(ax.get_xticklabels(), rotation=45, ha=\"right\")\n",
    "    ax.set_ylabel('True Label', fontsize=12)\n",
    "    ax.set_xlabel('Predicted Label', fontsize=12)\n",
    "\n",
    "fig, (ax2, ax3) = plt.subplots(1, 2, figsize=(20, 10))\n",
    "\n",
    "\n",
    "plot_heatmap(true_classes, vgg_pred_classes, class_names, ax2, title=\"Transfer Learning (VGG16) No Fine-Tuning\")    \n",
    "plot_heatmap(true_classes, vgg_pred_classes_ft, class_names, ax3, title=\"Transfer Learning (VGG16) with Fine-Tuning\")    \n",
    "\n",
    "fig.suptitle(\"Confusion Matrix Model Comparison\", fontsize=24)\n",
    "fig.tight_layout()\n",
    "fig.subplots_adjust(top=1.25)\n",
    "plt.show()"
   ]
  },
  {
   "cell_type": "code",
   "execution_count": null,
   "id": "c4c56a8e",
   "metadata": {},
   "outputs": [],
   "source": [
    "vgg_model_ft.save('D:/TQ/Fruits360/VGG_Model_Fine_Tuned.h5')"
   ]
  },
  {
   "cell_type": "code",
   "execution_count": null,
   "id": "daad2af9",
   "metadata": {},
   "outputs": [],
   "source": [
    "from tensorflow.keras import models\n",
    "vgg_model = models.load_model('D:/TQ/Fruits360/VGG_Model_Fine_Tuned.h5')"
   ]
  },
  {
   "cell_type": "code",
   "execution_count": null,
   "id": "3e652f9b",
   "metadata": {},
   "outputs": [],
   "source": [
    "# Confusion Matrix\n",
    "start = datetime.datetime.now()\n",
    "Y_pred = vgg_model.predict(testgen)\n",
    "y_pred = np.argmax(Y_pred, axis=1)\n"
   ]
  },
  {
   "cell_type": "code",
   "execution_count": null,
   "id": "16f03e3e",
   "metadata": {},
   "outputs": [],
   "source": [
    "model_pred = Y_pred\n",
    "pred_classes = np.argmax(model_pred, axis=1)"
   ]
  },
  {
   "cell_type": "code",
   "execution_count": null,
   "id": "a0666dce",
   "metadata": {},
   "outputs": [],
   "source": [
    "true_classes = testgen.classes\n",
    "\n",
    "model_acc = accuracy_score(true_classes, pred_classes)\n",
    "print(\"VGG16 Model Test Accuracy: {:.2f}%\".format(model_acc * 100))"
   ]
  },
  {
   "cell_type": "code",
   "execution_count": null,
   "id": "a55b8ccd",
   "metadata": {},
   "outputs": [],
   "source": [
    "cm = confusion_matrix(testgen.classes, y_pred)\n",
    "print(cm)\n",
    "\n",
    "end= datetime.datetime.now()\n",
    "print(\"Testing End at: \", end)\n",
    "elapsed= end-start\n",
    "print (\"Time: \", elapsed)"
   ]
  },
  {
   "cell_type": "code",
   "execution_count": null,
   "id": "8636198c",
   "metadata": {},
   "outputs": [],
   "source": [
    "report = classification_report(testgen.classes, y_pred, target_names=total_classes)\n",
    "print(report)"
   ]
  },
  {
   "cell_type": "code",
   "execution_count": null,
   "id": "d2015093",
   "metadata": {},
   "outputs": [],
   "source": [
    "file_names=testgen.filenames  # save list of test files names to be used later\n",
    "tlabels=testgen.labels # save test labels to be used later\n",
    "class_dict=testgen.class_indices\n",
    "# code below determines test batch size and test steps\n",
    "# so you go through the test images exactly once\n",
    "length=len(file_names) # determine number of images\n",
    "b_max=80 # set maximum batch size you will allow\n",
    "test_batch_size=sorted([int(length/n) for n in range(1,length+1) if length % n ==0 and length/n<=b_max],reverse=True)[0]\n",
    "test_steps=int(length/BATCH_SIZE)\n",
    "# make predictions\n",
    "preds=Y_pred\n",
    "new_dict={} \n",
    "for key in class_dict: # set key in new_dict to value in class_dict and value in new_dict to key in class_dict\n",
    "    value=class_dict[key]\n",
    "    new_dict[value]=key\n",
    "error_list=[] # empty list to store if the prediction was correct or not\n",
    "true_predictions = {}\n",
    "false_predictions = {}\n",
    "error_file_list=[]\n",
    "a = b = 1\n",
    "for i, p in enumerate(preds):\n",
    "    pred_index=np.argmax(p) # get the index that has the highest probability\n",
    "    if pred_index == tlabels[i]: #correct predictions\n",
    "      true_predictions[a] = {}\n",
    "      true_predictions[a]['PredictedClass'] = new_dict[pred_index]\n",
    "      true_predictions[a]['TrueClass'] = new_dict[tlabels[i]]\n",
    "      true_predictions[a]['FileName'] = file_names[i]\n",
    "      true_predictions[a]['Status'] = 'No'\n",
    "      error_list.append('No')\n",
    "      a+=1\n",
    "    else:\n",
    "      error_list.append('Yes')\n",
    "      false_predictions[b] = {}\n",
    "      false_predictions[b]['PredictedClass'] = new_dict[pred_index]\n",
    "      false_predictions[b]['TrueClass'] = new_dict[tlabels[i]]\n",
    "      false_predictions[b]['FileName'] = file_names[i]\n",
    "      false_predictions[b]['Status'] = 'Yes'\n",
    "      b+=1\n",
    "      #print(f'    {pred_class:10s}       {true_class:10s}    {file:25s}   {error_status:10s}')  \n",
    "      \n",
    "print(\"Total Images: \",len(error_list))\n",
    "print(\"True Predictions: \",len(true_predictions))\n",
    "print(\"False Predictions: \",len(false_predictions))"
   ]
  },
  {
   "cell_type": "code",
   "execution_count": null,
   "id": "b8820cfe",
   "metadata": {},
   "outputs": [],
   "source": [
    "print(\"---------------False Predictions---------\")\n",
    "print('PREDICTED CLASS            TRUE CLASS         FILENAME                        STATUS' ) # adjust spacing based on your class names\n",
    "for i in range(45,78):\n",
    "  pred_class = false_predictions[i]['PredictedClass']  # find the predicted class based on the index\n",
    "  true_class = false_predictions[i]['TrueClass'] # use the test label to get the true class of the test file\n",
    "  file = false_predictions[i]['FileName']\n",
    "  status = false_predictions[i]['Status']\n",
    "  print(f'    {pred_class:10s}       {true_class:10s}    {file:25s}   {status:10s}') "
   ]
  },
  {
   "cell_type": "code",
   "execution_count": null,
   "id": "9c26e0d7",
   "metadata": {},
   "outputs": [],
   "source": [
    "print(\"---------------------True Predictions--------------------\\n\")\n",
    "print('PREDICTED CLASS            TRUE CLASS         FILENAME                        STATUS' ) # adjust spacing based on your class names\n",
    "for i in range(1,50):\n",
    "  pred_class = true_predictions[i]['PredictedClass']  # find the predicted class based on the index\n",
    "  true_class = true_predictions[i]['TrueClass'] # use the test label to get the true class of the test file\n",
    "  file = true_predictions[i]['FileName']\n",
    "  status = true_predictions[i]['Status']\n",
    "  print(f'    {pred_class:10s}       {true_class:10s}    {file:25s}   {status:10s}') "
   ]
  },
  {
   "cell_type": "code",
   "execution_count": null,
   "id": "8e42cd7e",
   "metadata": {},
   "outputs": [],
   "source": [
    "import numpy as np\n",
    "import keras\n",
    "from keras.applications.imagenet_utils import decode_predictions\n",
    "import skimage.io \n",
    "import skimage.segmentation\n",
    "import copy\n",
    "import sklearn\n",
    "import sklearn.metrics\n",
    "from sklearn.linear_model import LinearRegression\n",
    "import warnings\n",
    "\n",
    "print('Notebook running: keras ', keras.__version__)\n",
    "np.random.seed(222)"
   ]
  },
  {
   "cell_type": "code",
   "execution_count": null,
   "id": "131a4404",
   "metadata": {},
   "outputs": [],
   "source": [
    "#Xi = skimage.io.imread(\"D:/TQ/Fruits360/Test_Images/Red_Apple.jpg\")\n",
    "\n",
    "Xi = skimage.io.imread(\"D:/TQ/Fruits360/fruits-360_dataset/fruits-360/Test/Banana/100_100.jpg\")\n",
    "\n",
    "#Xi = skimage.transform.resize(Xi, (100,100)) \n",
    "\n",
    "skimage.io.imshow(Xi) # Show image before inception preprocessing\n",
    "\n",
    "Xi = preprocess_input(Xi)"
   ]
  },
  {
   "cell_type": "code",
   "execution_count": null,
   "id": "6e24acd8",
   "metadata": {},
   "outputs": [],
   "source": [
    "import os\n",
    "\n",
    "def transform_img_fn(path_list):\n",
    "    out = []\n",
    "    for img_path in path_list:\n",
    "        img = image.load_img(img_path, target_size=(100, 100))\n",
    "        #x = image.img_to_array(img)\n",
    "        x = np.asarray(img)\n",
    "        x = np.expand_dims(x, axis=0)\n",
    "        x = preprocess_input(x)\n",
    "        out.append(x)\n",
    "    return np.vstack(out)"
   ]
  },
  {
   "cell_type": "code",
   "execution_count": null,
   "id": "f2524271",
   "metadata": {},
   "outputs": [],
   "source": [
    "img_positive = transform_img_fn([os.path.join('D:/TQ/Fruits360/fruits-360_dataset/fruits-360/Test/Apple Braeburn','43_100.jpg')])\n",
    "\n",
    "plt.imshow(img_positive[0].astype(np.uint8))\n",
    "preds = vgg_model.predict(img_positive/255)\n",
    "\n",
    "print(new_dict[np.argmax(preds)])"
   ]
  },
  {
   "cell_type": "code",
   "execution_count": null,
   "id": "1a87b0e6",
   "metadata": {},
   "outputs": [],
   "source": [
    "#np.random.seed(222)\n",
    "#preds = vgg_model.predict(Xi[np.newaxis,:,:,:]/255)\n",
    "\n",
    "\n",
    "img = image.load_img(\"D:/TQ/Fruits360/fruits-360_dataset/fruits-360/Test/Apple Braeburn/43_100.jpg\",target_size=(100,100))\n",
    "img = np.asarray(img)\n",
    "plt.imshow(img)\n",
    "img = np.expand_dims(img, axis=0)\n",
    "\n",
    "\n",
    "preds = vgg_model.predict(img)\n",
    "print(preds)\n",
    "print(total_classes[np.argmax(preds)])\n"
   ]
  },
  {
   "cell_type": "code",
   "execution_count": null,
   "id": "e117abfb",
   "metadata": {},
   "outputs": [],
   "source": [
    "preds = vgg_model.predict(Xi[np.newaxis,:,:,:])\n",
    "print(preds)\n",
    "print(total_classes[np.argmax(preds)])"
   ]
  },
  {
   "cell_type": "code",
   "execution_count": null,
   "id": "2b8841b0",
   "metadata": {},
   "outputs": [],
   "source": [
    "top_pred_classes = preds[0].argsort()[-5:][::-1]\n",
    "top_pred_classes                #Index of top 5 classes"
   ]
  },
  {
   "cell_type": "code",
   "execution_count": null,
   "id": "fcdda05b",
   "metadata": {},
   "outputs": [],
   "source": [
    "for x in top_pred_classes:\n",
    "    print(total_classes[x])"
   ]
  },
  {
   "cell_type": "code",
   "execution_count": null,
   "id": "2ef12a1a",
   "metadata": {},
   "outputs": [],
   "source": [
    "superpixels = skimage.segmentation.quickshift(Xi, kernel_size=4,max_dist=200, ratio=0.2)\n",
    "num_superpixels = np.unique(superpixels).shape[0]\n",
    "num_superpixels"
   ]
  },
  {
   "cell_type": "code",
   "execution_count": null,
   "id": "64585435",
   "metadata": {},
   "outputs": [],
   "source": [
    "skimage.io.imshow(skimage.segmentation.mark_boundaries(Xi/2+0.5, superpixels))"
   ]
  },
  {
   "cell_type": "code",
   "execution_count": null,
   "id": "6b2730ff",
   "metadata": {},
   "outputs": [],
   "source": [
    "num_perturb = 150\n",
    "perturbations = np.random.binomial(1, 0.5, size=(num_perturb, num_superpixels))\n",
    "perturbations[0] #Show example of perturbation"
   ]
  },
  {
   "cell_type": "code",
   "execution_count": null,
   "id": "482d98d7",
   "metadata": {},
   "outputs": [],
   "source": [
    "def perturb_image(img,perturbation,segments):\n",
    "  active_pixels = np.where(perturbation == 1)[0]\n",
    "  mask = np.zeros(segments.shape)\n",
    "  for active in active_pixels:\n",
    "      mask[segments == active] = 1 \n",
    "  perturbed_image = copy.deepcopy(img)\n",
    "  perturbed_image = perturbed_image*mask[:,:,np.newaxis]\n",
    "  return perturbed_image"
   ]
  },
  {
   "cell_type": "code",
   "execution_count": null,
   "id": "9e1b4569",
   "metadata": {},
   "outputs": [],
   "source": [
    "skimage.io.imshow(perturb_image(Xi/2+0.5,perturbations[99],superpixels).astype(np.uint8)*255)"
   ]
  },
  {
   "cell_type": "code",
   "execution_count": null,
   "id": "eb3217e2",
   "metadata": {},
   "outputs": [],
   "source": [
    "predictions = []\n",
    "for pert in perturbations:\n",
    "  perturbed_img = perturb_image(Xi,pert,superpixels)\n",
    "  pred = vgg_model.predict(perturbed_img[np.newaxis,:,:,:])\n",
    "  predictions.append(pred)\n",
    "\n",
    "predictions = np.array(predictions)\n",
    "predictions.shape"
   ]
  },
  {
   "cell_type": "code",
   "execution_count": null,
   "id": "4d94ce6b",
   "metadata": {},
   "outputs": [],
   "source": [
    "original_image = np.ones(num_superpixels)[np.newaxis,:] #Perturbation with all superpixels enabled \n",
    "distances = sklearn.metrics.pairwise_distances(perturbations,original_image, metric='cosine').ravel()\n",
    "distances.shape"
   ]
  },
  {
   "cell_type": "code",
   "execution_count": null,
   "id": "aeee4006",
   "metadata": {},
   "outputs": [],
   "source": [
    "kernel_width = 0.25\n",
    "weights = np.sqrt(np.exp(-(distances**2)/kernel_width**2)) #Kernel function\n",
    "weights.shape"
   ]
  },
  {
   "cell_type": "code",
   "execution_count": null,
   "id": "0a74afda",
   "metadata": {},
   "outputs": [],
   "source": [
    "class_to_explain = top_pred_classes[0]\n",
    "simpler_model = LinearRegression()\n",
    "simpler_model.fit(X=perturbations, y=predictions[:,:,class_to_explain], sample_weight=weights)\n",
    "coeff = simpler_model.coef_[0]\n",
    "coeff"
   ]
  },
  {
   "cell_type": "code",
   "execution_count": null,
   "id": "edbcc9c4",
   "metadata": {},
   "outputs": [],
   "source": [
    "num_top_features = 4\n",
    "top_features = np.argsort(coeff)[-num_top_features:] \n",
    "top_features"
   ]
  },
  {
   "cell_type": "code",
   "execution_count": null,
   "id": "c479f349",
   "metadata": {},
   "outputs": [],
   "source": [
    "mask = np.zeros(num_superpixels) \n",
    "mask[top_features]= True #Activate top superpixels\n",
    "skimage.io.imshow(perturb_image(Xi/2+0.5,mask,superpixels) )"
   ]
  },
  {
   "cell_type": "markdown",
   "id": "0b5808b6",
   "metadata": {},
   "source": [
    "# Using LIME"
   ]
  },
  {
   "cell_type": "code",
   "execution_count": null,
   "id": "89e54413",
   "metadata": {},
   "outputs": [],
   "source": [
    "import os\n",
    "import keras\n",
    "\n",
    "from keras.preprocessing import image\n",
    "from keras.applications.imagenet_utils import decode_predictions\n",
    "from skimage.io import imread\n",
    "import matplotlib.pyplot as plt\n",
    "%matplotlib inline\n",
    "import numpy as np\n",
    "print('Notebook run using keras:', keras.__version__)"
   ]
  },
  {
   "cell_type": "code",
   "execution_count": null,
   "id": "6d796212",
   "metadata": {},
   "outputs": [],
   "source": [
    "from tensorflow.keras import models\n",
    "inet_model  = models.load_model(\"D:/TQ/Fruits360/VGG_Model_Fine_Tuned.h5\")\n"
   ]
  },
  {
   "cell_type": "code",
   "execution_count": null,
   "id": "aa4769ff",
   "metadata": {},
   "outputs": [],
   "source": [
    "def transform_img_fn(path_list):\n",
    "    out = []\n",
    "    for img_path in path_list:\n",
    "        img = keras.utils.load_img(img_path, target_size=(100, 100))\n",
    "        x = keras.utils.img_to_array(img)\n",
    "        x = np.expand_dims(x, axis=0)\n",
    "        #x = inc_net.preprocess_input(x)\n",
    "        out.append(x)\n",
    "    return np.vstack(out)"
   ]
  },
  {
   "cell_type": "code",
   "execution_count": null,
   "id": "b8d6aa83",
   "metadata": {
    "scrolled": true
   },
   "outputs": [],
   "source": [
    "images = transform_img_fn([os.path.join('D:/TQ/Fruits360/Test_Images/','Red_Apple.jpg')])\n",
    "# I'm dividing by 2 and adding 0.5 because of how this Inception represents images\n",
    "plt.imshow(images[0] / 2 + 0.5)\n",
    "preds = inet_model.predict(images)\n",
    "for x in preds:\n",
    "    print(x)"
   ]
  },
  {
   "cell_type": "code",
   "execution_count": null,
   "id": "c04b4eb7",
   "metadata": {},
   "outputs": [],
   "source": []
  }
 ],
 "metadata": {
  "kernelspec": {
   "display_name": "Python 3 (ipykernel)",
   "language": "python",
   "name": "python3"
  },
  "language_info": {
   "codemirror_mode": {
    "name": "ipython",
    "version": 3
   },
   "file_extension": ".py",
   "mimetype": "text/x-python",
   "name": "python",
   "nbconvert_exporter": "python",
   "pygments_lexer": "ipython3",
   "version": "3.10.5"
  }
 },
 "nbformat": 4,
 "nbformat_minor": 5
}
